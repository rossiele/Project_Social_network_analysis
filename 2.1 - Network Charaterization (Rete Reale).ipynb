{
 "cells": [
  {
   "cell_type": "markdown",
   "id": "e940e4cb",
   "metadata": {},
   "source": [
    "# 2.1 ANALISI DELLA RETE: *NETWORK CHARACTERIZATION*\n",
    "\n",
    "In questa sezione si analizzano le seguenti caratteristiche della rete creata precedentemente\n",
    "1. [Informazioni di base](#info)\n",
    "2. [Componenti connesse](#comps)\n",
    "3. [Degree Distribution](#dd)\n",
    "4. [Analisi dei path](#path)\n",
    "5. [Analisi degli hubs](#hubs)\n",
    "6. [Clustering Coefficient, densità](#cc)\n",
    "7. [Centralità](#centralita)"
   ]
  },
  {
   "cell_type": "code",
   "execution_count": 1,
   "id": "5b0f487b",
   "metadata": {},
   "outputs": [],
   "source": [
    "import os\n",
    "import pandas as pd\n",
    "import numpy as np\n",
    "import matplotlib.pyplot as plt\n",
    "import networkx as nx\n",
    "import warnings\n",
    "import powerlaw\n",
    "import seaborn as sns\n",
    "import matplotlib.colors as mcolors\n",
    "import pickle\n",
    "\n",
    "warnings.filterwarnings('ignore')\n",
    "\n",
    "from operator import itemgetter\n",
    "from collections import Counter\n",
    "warnings.filterwarnings('ignore')"
   ]
  },
  {
   "cell_type": "code",
   "execution_count": 2,
   "id": "2e29fa76",
   "metadata": {},
   "outputs": [],
   "source": [
    "%matplotlib inline "
   ]
  },
  {
   "cell_type": "code",
   "execution_count": 3,
   "id": "81de0adf",
   "metadata": {},
   "outputs": [
    {
     "data": {
      "text/html": [
       "<div>\n",
       "<style scoped>\n",
       "    .dataframe tbody tr th:only-of-type {\n",
       "        vertical-align: middle;\n",
       "    }\n",
       "\n",
       "    .dataframe tbody tr th {\n",
       "        vertical-align: top;\n",
       "    }\n",
       "\n",
       "    .dataframe thead th {\n",
       "        text-align: right;\n",
       "    }\n",
       "</style>\n",
       "<table border=\"1\" class=\"dataframe\">\n",
       "  <thead>\n",
       "    <tr style=\"text-align: right;\">\n",
       "      <th></th>\n",
       "      <th>source</th>\n",
       "      <th>id_source</th>\n",
       "      <th>target</th>\n",
       "      <th>id_target</th>\n",
       "      <th>weights</th>\n",
       "    </tr>\n",
       "  </thead>\n",
       "  <tbody>\n",
       "    <tr>\n",
       "      <th>0</th>\n",
       "      <td>jwl2nd</td>\n",
       "      <td>4563241355</td>\n",
       "      <td>chanleycourttv</td>\n",
       "      <td>4730732546</td>\n",
       "      <td>1.000000</td>\n",
       "    </tr>\n",
       "    <tr>\n",
       "      <th>1</th>\n",
       "      <td>simplyslj</td>\n",
       "      <td>1518917881119059968</td>\n",
       "      <td>theemilydbaker</td>\n",
       "      <td>22594853</td>\n",
       "      <td>0.952055</td>\n",
       "    </tr>\n",
       "    <tr>\n",
       "      <th>2</th>\n",
       "      <td>jwl2nd</td>\n",
       "      <td>4563241355</td>\n",
       "      <td>courttv</td>\n",
       "      <td>1031946753510203392</td>\n",
       "      <td>0.924658</td>\n",
       "    </tr>\n",
       "    <tr>\n",
       "      <th>3</th>\n",
       "      <td>simplyslj</td>\n",
       "      <td>1518917881119059968</td>\n",
       "      <td>legalbytesmedia</td>\n",
       "      <td>1262475778631106560</td>\n",
       "      <td>0.914384</td>\n",
       "    </tr>\n",
       "    <tr>\n",
       "      <th>4</th>\n",
       "      <td>adrferg</td>\n",
       "      <td>1074757149748854792</td>\n",
       "      <td>courttv</td>\n",
       "      <td>1031946753510203392</td>\n",
       "      <td>0.633562</td>\n",
       "    </tr>\n",
       "    <tr>\n",
       "      <th>...</th>\n",
       "      <td>...</td>\n",
       "      <td>...</td>\n",
       "      <td>...</td>\n",
       "      <td>...</td>\n",
       "      <td>...</td>\n",
       "    </tr>\n",
       "    <tr>\n",
       "      <th>21691</th>\n",
       "      <td>intheone9</td>\n",
       "      <td>208950166</td>\n",
       "      <td>Snicker_n_smile</td>\n",
       "      <td>1528112917723291648</td>\n",
       "      <td>0.000000</td>\n",
       "    </tr>\n",
       "    <tr>\n",
       "      <th>21692</th>\n",
       "      <td>intheone9</td>\n",
       "      <td>208950166</td>\n",
       "      <td>ThatUmbrella</td>\n",
       "      <td>901030183213445125</td>\n",
       "      <td>0.000000</td>\n",
       "    </tr>\n",
       "    <tr>\n",
       "      <th>21693</th>\n",
       "      <td>intheone9</td>\n",
       "      <td>208950166</td>\n",
       "      <td>dailymailuk</td>\n",
       "      <td>111556423</td>\n",
       "      <td>0.000000</td>\n",
       "    </tr>\n",
       "    <tr>\n",
       "      <th>21694</th>\n",
       "      <td>intheone9</td>\n",
       "      <td>208950166</td>\n",
       "      <td>elainebhoft</td>\n",
       "      <td>1380604861486665730</td>\n",
       "      <td>0.000000</td>\n",
       "    </tr>\n",
       "    <tr>\n",
       "      <th>21695</th>\n",
       "      <td>zzziiinnnggg</td>\n",
       "      <td>54606627</td>\n",
       "      <td>winonasrider</td>\n",
       "      <td>1088984209</td>\n",
       "      <td>0.000000</td>\n",
       "    </tr>\n",
       "  </tbody>\n",
       "</table>\n",
       "<p>21696 rows × 5 columns</p>\n",
       "</div>"
      ],
      "text/plain": [
       "             source            id_source           target  \\\n",
       "0            jwl2nd           4563241355   chanleycourttv   \n",
       "1         simplyslj  1518917881119059968   theemilydbaker   \n",
       "2            jwl2nd           4563241355          courttv   \n",
       "3         simplyslj  1518917881119059968  legalbytesmedia   \n",
       "4           adrferg  1074757149748854792          courttv   \n",
       "...             ...                  ...              ...   \n",
       "21691     intheone9            208950166  Snicker_n_smile   \n",
       "21692     intheone9            208950166     ThatUmbrella   \n",
       "21693     intheone9            208950166      dailymailuk   \n",
       "21694     intheone9            208950166      elainebhoft   \n",
       "21695  zzziiinnnggg             54606627     winonasrider   \n",
       "\n",
       "                 id_target   weights  \n",
       "0               4730732546  1.000000  \n",
       "1                 22594853  0.952055  \n",
       "2      1031946753510203392  0.924658  \n",
       "3      1262475778631106560  0.914384  \n",
       "4      1031946753510203392  0.633562  \n",
       "...                    ...       ...  \n",
       "21691  1528112917723291648  0.000000  \n",
       "21692   901030183213445125  0.000000  \n",
       "21693            111556423  0.000000  \n",
       "21694  1380604861486665730  0.000000  \n",
       "21695           1088984209  0.000000  \n",
       "\n",
       "[21696 rows x 5 columns]"
      ]
     },
     "execution_count": 3,
     "metadata": {},
     "output_type": "execute_result"
    }
   ],
   "source": [
    "df = pd.read_csv(\"data/df_grafo_pesato.csv\", skipinitialspace=True, na_values='?', keep_default_na=True)   \n",
    "del df['Unnamed: 0']\n",
    "df"
   ]
  },
  {
   "cell_type": "markdown",
   "id": "cd122302",
   "metadata": {},
   "source": [
    "Carico la rete reale (**g**) stabilendo la *source*, il *target* e l'attributo delle edges, nel nostro caso i pesi"
   ]
  },
  {
   "cell_type": "code",
   "execution_count": 94,
   "id": "21a613ed",
   "metadata": {},
   "outputs": [
    {
     "data": {
      "text/plain": [
       "'MultiDiGraph with 18258 nodes and 21696 edges'"
      ]
     },
     "execution_count": 94,
     "metadata": {},
     "output_type": "execute_result"
    }
   ],
   "source": [
    "g = nx.from_pandas_edgelist(df, source=\"source\", target = \"target\", create_using=nx.MultiDiGraph()) #edge_attr = \"weights\"\n",
    "nx.info(g) "
   ]
  },
  {
   "cell_type": "code",
   "execution_count": 93,
   "id": "e236893e",
   "metadata": {},
   "outputs": [
    {
     "data": {
      "text/plain": [
       "'Graph with 18258 nodes and 21680 edges'"
      ]
     },
     "execution_count": 93,
     "metadata": {},
     "output_type": "execute_result"
    }
   ],
   "source": [
    "g2 = nx.Graph(g) # trasformo il grafo da multigrafo a grafo semplice indiretto\n",
    "nx.info(g2) "
   ]
  },
  {
   "cell_type": "markdown",
   "id": "2d2fcfbe",
   "metadata": {},
   "source": [
    "## Informazioni di base <a id = 'info'> </a>"
   ]
  },
  {
   "cell_type": "code",
   "execution_count": 9,
   "id": "d99def43",
   "metadata": {},
   "outputs": [],
   "source": [
    "#funzione che stampa le informazioni di base delle reti (num nodi, edges, lmax ecc.)\n",
    "def net_basic_info(g):\n",
    "    nodes = g.number_of_nodes()\n",
    "    edges = g.number_of_edges()\n",
    "    directness = g.is_directed()\n",
    "    self_loops = nx.number_of_selfloops(g)\n",
    "    lMax = ((nodes) * (nodes - 1)) / 2\n",
    "    AvgDegree = sum(dict(g.degree()).values())/float(len(g))\n",
    "\n",
    "    print('- Numero Nodi:', nodes)\n",
    "    print('- Numero Edges:', edges)\n",
    "    print (\"- Numero di self-loop: \", self_loops)\n",
    "    print(\"- La rete e' diretta:\",directness)\n",
    "    print('- Numero massimo di collegamenti (L_max):', lMax)\n",
    "    print('- Avarage Degree:', AvgDegree)\n"
   ]
  },
  {
   "cell_type": "code",
   "execution_count": 10,
   "id": "bb7ddd52",
   "metadata": {},
   "outputs": [
    {
     "name": "stdout",
     "output_type": "stream",
     "text": [
      "Caratteristiche Real World Netowrk (RETE REALE)\n",
      " \n",
      "- Numero Nodi: 18258\n",
      "- Numero Edges: 21696\n",
      "- Numero di self-loop:  40\n",
      "- La rete e' diretta: True\n",
      "- Numero massimo di collegamenti (L_max): 166668153.0\n",
      "- Avarage Degree: 2.37660203746303\n"
     ]
    }
   ],
   "source": [
    "print(\"Caratteristiche Real World Netowrk (RETE REALE)\\n \")\n",
    "net_basic_info(g)\n"
   ]
  },
  {
   "cell_type": "markdown",
   "id": "33a596d2",
   "metadata": {},
   "source": [
    "## HUBS <a id = 'hubs'> </a>\n",
    "Ricerco all'interno della rete gli **Hubs**"
   ]
  },
  {
   "cell_type": "code",
   "execution_count": 25,
   "id": "fbf079fd",
   "metadata": {},
   "outputs": [],
   "source": [
    "def find_hubs(g, t_degree):\n",
    "    hubs = []\n",
    "    noHubs = []\n",
    "    for i in g: #scorro i nodi in g\n",
    "        if g.degree(i) >=  t_degree: \n",
    "            #se il grado di quella rete è superiorie al grado soglia (t_degree) lo aggiunto alla lista degli hubs\n",
    "            hubs.append(i)\n",
    "        else: # altrimenti li aggiungo alla lista degli altri nodi\n",
    "            noHubs.append(i)\n",
    "    #infine, stampo il num di hubs identificati    \n",
    "    print(\"Numero di hubs nella rete: \", len(hubs), '\\n')\n",
    "    \n",
    "    return hubs, noHubs"
   ]
  },
  {
   "cell_type": "markdown",
   "id": "601c95b0",
   "metadata": {},
   "source": [
    "Estraggo gli hubs con la funzione find_hub e ricerco l'hub maggiore (quello con grado più alto)"
   ]
  },
  {
   "cell_type": "code",
   "execution_count": 53,
   "id": "011b7273",
   "metadata": {},
   "outputs": [
    {
     "name": "stdout",
     "output_type": "stream",
     "text": [
      "-----------------\n",
      " HUBS DELLA RETE \n",
      "-----------------\n",
      "\n",
      "Numero di hubs nella rete:  40 \n",
      "\n",
      "Hub maggiore: deppheardtruth con 548 collegamenti\n",
      "\n",
      "* theemilydbaker  - grado: 370\n",
      "* courttv  - grado: 205\n",
      "* legalbytesmedia  - grado: 183\n",
      "* youtube  - grado: 498\n",
      "* queenofcodebass  - grado: 66\n",
      "* rekietalaw  - grado: 130\n",
      "* thatumbrella  - grado: 294\n",
      "* GellertDepp  - grado: 145\n",
      "* TheEmilyDBaker  - grado: 107\n",
      "* realamberheard  - grado: 413\n",
      "* deppheardtruth  - grado: 548\n",
      "* tmz  - grado: 247\n",
      "* ThatUmbrella  - grado: 172\n",
      "* kyduiguy  - grado: 223\n",
      "* lawcrimenetwork  - grado: 91\n",
      "* DrProudman  - grado: 107\n",
      "* reenie62  - grado: 133\n",
      "* ianrunkle  - grado: 173\n",
      "* mensurvivetoo  - grado: 69\n",
      "* KyDUIGuy  - grado: 85\n",
      "* ThatBrianFella  - grado: 78\n",
      "* robert__leonard  - grado: 278\n",
      "* thirdgirlll  - grado: 72\n",
      "* voguemagazine  - grado: 115\n",
      "* jamesfromcourt  - grado: 112\n",
      "* elonmusk  - grado: 261\n",
      "* CourtTV  - grado: 117\n",
      "* andysignore  - grado: 108\n",
      "* eve_barlow  - grado: 118\n",
      "* disney  - grado: 66\n",
      "* nypost  - grado: 159\n",
      "* lumberlaw  - grado: 107\n",
      "* niermanjoe  - grado: 61\n",
      "* warnerbros  - grado: 63\n",
      "* LawCrimeNetwork  - grado: 105\n",
      "* thatbrianfella  - grado: 82\n",
      "* madsonovich  - grado: 111\n",
      "* limeritweets  - grado: 60\n",
      "* wbpictures  - grado: 62\n",
      "* voxdotcom  - grado: 78\n"
     ]
    }
   ],
   "source": [
    "print('-----------------\\n HUBS DELLA RETE \\n-----------------\\n')\n",
    "\n",
    "hubs, noHubs = find_hubs(g, 60)  #impostando come soglia un grado pari a 60 ottendo 40 hubs\n",
    "\n",
    "largest_hub, degree = sorted(g.degree(), key=itemgetter(1))[-1] #ricerco l'hub maggiore\n",
    "print('Hub maggiore:', largest_hub , 'con', degree, 'collegamenti\\n')\n",
    "for i in hubs:\n",
    "    sorted(hubs)\n",
    "    print('*', i, ' - grado:', g.degree(i)) \n"
   ]
  },
  {
   "cell_type": "markdown",
   "id": "e4edf70f",
   "metadata": {},
   "source": [
    "### EGO NETWORK: rete in cui al centro di trova il nodo con più "
   ]
  },
  {
   "cell_type": "raw",
   "id": "7534e095",
   "metadata": {},
   "source": [
    "plt.figure(figsize =(13,10))\n",
    "\n",
    "#Rappresento l'ego network\n",
    "g_ego = nx.ego_graph(g, largest_hub)\n",
    "options = {\"node_size\": 200, \"node_color\": \"r\", }\n",
    "pos = nx.spring_layout(g_ego, seed=42)  # Seed layout for reproducibility\n",
    "nx.draw_networkx_nodes(g_ego, pos, nodelist=[largest_hub], **options)\n",
    "\n",
    "nx.draw(g_ego, pos, node_color=\"g\", node_size=50, with_labels=False)\n",
    "plt.savefig(\"img/ego_g.png\")"
   ]
  },
  {
   "cell_type": "markdown",
   "id": "fc759a4c",
   "metadata": {},
   "source": [
    "---"
   ]
  },
  {
   "cell_type": "markdown",
   "id": "371f5eb1",
   "metadata": {},
   "source": [
    "## Componenti Connesse <a id = 'comps'> </a>"
   ]
  },
  {
   "cell_type": "code",
   "execution_count": 108,
   "id": "69b66208",
   "metadata": {},
   "outputs": [
    {
     "name": "stdout",
     "output_type": "stream",
     "text": [
      "- Componenti connesse RETE REALE: 2411\n",
      "- Componente maaggiore: 11980\n"
     ]
    }
   ],
   "source": [
    "#per calcolare le componenti connesse è necessario trasformare la rete  da diretta a indiretta\n",
    "comps_g = list(nx.connected_components(g.to_undirected()))  \n",
    "print (\"- Componenti connesse RETE REALE:\", len(comps_g))\n",
    "\n",
    "big_comp_g = len(comps_g[0])\n",
    "print ('- Componente maaggiore:', big_comp_g)\n"
   ]
  },
  {
   "cell_type": "markdown",
   "id": "172d2b2e",
   "metadata": {},
   "source": [
    "La rete con più componenti connesse è la rete random (ER)"
   ]
  },
  {
   "cell_type": "markdown",
   "id": "a9263dd6",
   "metadata": {},
   "source": [
    "### Componenti debolmente e fortemente connesse"
   ]
  },
  {
   "cell_type": "code",
   "execution_count": 100,
   "id": "ee80eae4",
   "metadata": {},
   "outputs": [],
   "source": [
    "scc_g = nx.number_strongly_connected_components(g)\n",
    "wcc_g = nx.number_weakly_connected_components(g)"
   ]
  },
  {
   "cell_type": "code",
   "execution_count": 101,
   "id": "ffd048ed",
   "metadata": {},
   "outputs": [
    {
     "name": "stdout",
     "output_type": "stream",
     "text": [
      "- Componenti FORTEMENTE CONNESSE rete reale: 18246\n",
      "- Componenti DEBOLMENTE CONNESSE rete reale: 2411\n"
     ]
    }
   ],
   "source": [
    "print (\"- Componenti FORTEMENTE CONNESSE rete reale:\", scc_g)\n",
    "print (\"- Componenti DEBOLMENTE CONNESSE rete reale:\", wcc_g)"
   ]
  },
  {
   "cell_type": "markdown",
   "id": "2a3a347b",
   "metadata": {},
   "source": [
    "****"
   ]
  },
  {
   "cell_type": "markdown",
   "id": "dc8576a0",
   "metadata": {},
   "source": [
    "*****"
   ]
  },
  {
   "cell_type": "markdown",
   "id": "1d9deecd",
   "metadata": {},
   "source": [
    "## Clustering Coefficient e Densità <a id = 'comps'> </a>"
   ]
  },
  {
   "cell_type": "code",
   "execution_count": 109,
   "id": "1386f912",
   "metadata": {},
   "outputs": [
    {
     "data": {
      "text/plain": [
       "[('jacxpearl', 1.0),\n",
       " ('goblinqchesh', 1.0),\n",
       " ('ihaveadream0101', 1.0),\n",
       " ('KevinRashidi', 1.0),\n",
       " ('courttvfans', 1.0),\n",
       " ('amypolacko', 1.0),\n",
       " ('ssolorio77', 1.0),\n",
       " ('robbloodysaul', 1.0),\n",
       " ('chrisablesfool', 1.0),\n",
       " ('blaw', 1.0)]"
      ]
     },
     "execution_count": 109,
     "metadata": {},
     "output_type": "execute_result"
    }
   ],
   "source": [
    "#passo g2 perché per calcolare il clustering coeff è necessario avere un grafo semplice e non un multigrafo\n",
    "ordine_cc_g = [(k, v) for k, v in sorted(cc.items(), key=lambda item: -item[1])]\n",
    "cc = nx.clustering(g2) \n",
    "ordine_cc_g[0:10]"
   ]
  },
  {
   "cell_type": "code",
   "execution_count": 111,
   "id": "e5c63f87",
   "metadata": {},
   "outputs": [
    {
     "data": {
      "text/plain": [
       "[('deppheardtruth', 116),\n",
       " ('lawyerschiff', 60),\n",
       " ('courttv', 59),\n",
       " ('andysignore', 59),\n",
       " ('ianrunkle', 45),\n",
       " ('laurabockov', 42),\n",
       " ('thatbrianfella', 40),\n",
       " ('youtube', 35),\n",
       " ('chanleycourttv', 30),\n",
       " ('ashleycourttv', 29)]"
      ]
     },
     "execution_count": 111,
     "metadata": {},
     "output_type": "execute_result"
    }
   ],
   "source": [
    "#passo g2 perché per calcolare il numero di triangoli è necessario avere un grafo semplice e non un multigrafo\n",
    "triangoli = nx.triangles(g2)\n",
    "ordine_triangoli_g = [(k, v) for k, v in sorted(triangoli.items(), key=lambda item: -item[1])]\n",
    "ordine_triangoli_g[0:10]"
   ]
  },
  {
   "cell_type": "code",
   "execution_count": 104,
   "id": "7d782a61",
   "metadata": {},
   "outputs": [
    {
     "name": "stdout",
     "output_type": "stream",
     "text": [
      "AVG CLUSTERING COFFICIENT E DENSITA RETE REALE\n",
      "- Densita': 6.508741955039246e-05 \n",
      "- Average Clustering Coeff:  0.00878915165065494\n"
     ]
    }
   ],
   "source": [
    "print(\"AVG CLUSTERING COFFICIENT E DENSITA RETE REALE\")\n",
    "print (\"- Densita':\", nx.density(g),\n",
    "       \"\\n- Average Clustering Coeff: \", nx.average_clustering(g2)) #passo all'avg clusteing g2, ossia il grafo semplice "
   ]
  },
  {
   "cell_type": "code",
   "execution_count": 105,
   "id": "d9cdda52",
   "metadata": {},
   "outputs": [
    {
     "data": {
      "image/png": "[encoded data removed]",
      "text/plain": [
       "<Figure size 720x576 with 1 Axes>"
      ]
     },
     "metadata": {
      "needs_background": "light"
     },
     "output_type": "display_data"
    }
   ],
   "source": [
    "hist_g = nx.degree_histogram(g)\n",
    "\n",
    "fig = plt.figure(figsize=(10, 8)) \n",
    "plt.plot(range(0, len(hist_g)), hist_g, \"o\", color = '#fb9a99')\n",
    "plt.title(\"Degree Distribution nella rete reale\", fontsize = 18)\n",
    "plt.xlabel(\"Degree\", fontsize = 14)\n",
    "plt.ylabel(\"Nodi\", fontsize = 14)\n",
    "plt.loglog()\n",
    "plt.savefig('img/degree_dist_rete_reale.png')\n",
    "\n",
    "plt.show()"
   ]
  },
  {
   "cell_type": "markdown",
   "id": "54d58dfa",
   "metadata": {},
   "source": [
    "**CCDF** (complementary cumulative distribution function/funzione di distribuzione cumulativa complementare): un metodo di calcolo statistico che misura la potenza nel tempo(?)\n",
    "\n",
    "\n",
    "**CDF** (comulative distribuzion fraction) [https://en.wikipedia.org/wiki/Cumulative_distribution_function]"
   ]
  },
  {
   "cell_type": "code",
   "execution_count": 106,
   "id": "9ecf0c20",
   "metadata": {},
   "outputs": [],
   "source": [
    "def plot_dist(G):\n",
    "    M = nx.to_scipy_sparse_matrix(G)\n",
    "    xmin = min([d[1] for d in G.degree()])\n",
    "    indegrees = M.sum(0).A[0]\n",
    "    degree = np.bincount(indegrees)\n",
    "    fit = powerlaw.Fit(np.array(degree)+1, fit_method='KS')#, xmin=xmin, xmax=max(degree)-xmin,discrete=True)\n",
    "    #plt.title('Distribution', fontsize = 20)\n",
    "    \n",
    "    fig = plt.figure(figsize=(16, 6)) \n",
    "    \n",
    "    \n",
    "    \"\"\" Plot Distribution \"\"\"\n",
    "    plt.subplot(1, 3, 1)\n",
    "    plt.plot(range(len(degree)),degree,'b.', hist_g, \"o\", color = 'g')   \n",
    "    plt.loglog()\n",
    "    plt.xlim((min(degree), max(degree)))\n",
    "    plt.title('Degree Distibution', fontsize = 16)\n",
    "    plt.xlabel('Degree', fontsize = 14)\n",
    "    plt.ylabel('P(k)', fontsize = 14)\n",
    "\n",
    "\n",
    "    \"\"\" Plot CDF \"\"\"\n",
    "    plt.subplot(1, 3, 2)\n",
    "    fit.plot_cdf(color = 'g' )\n",
    "    plt.title(\"Comulative Degree Fraction\", fontsize = 16)\n",
    "    plt.xlabel(\"Degree\", fontsize = 14)\n",
    "    plt.ylabel('CDF', fontsize = 14)\n",
    "\n",
    "    \"\"\" Plot CCDF \"\"\"\n",
    "    plt.subplot(1, 3, 3)\n",
    "    fit.power_law.plot_pdf(color='r',linestyle='-',label='fit ccdf')\n",
    "    fit.plot_ccdf(color = 'g')\n",
    "    plt.title(\"Complementary Comulative Degree Fraction\", fontsize = 16)\n",
    "    plt.ylabel('CCDF', fontsize = 14)\n",
    "    plt.xlabel('Degree', fontsize = 14)\n",
    "    plt.tight_layout()\n",
    "    plt.show()\n",
    "    print(f'alpha={fit.power_law.alpha+1} sigma={fit.power_law.sigma}')"
   ]
  },
  {
   "cell_type": "code",
   "execution_count": 107,
   "id": "4130d868",
   "metadata": {},
   "outputs": [
    {
     "name": "stdout",
     "output_type": "stream",
     "text": [
      "Calculating best minimal value for power law fit\n",
      "xmin progress: 00%\r",
      "xmin progress: 04%\r",
      "xmin progress: 08%\r",
      "xmin progress: 13%\r",
      "xmin progress: 17%\r",
      "xmin progress: 21%\r",
      "xmin progress: 26%\r",
      "xmin progress: 30%\r",
      "xmin progress: 34%\r",
      "xmin progress: 39%\r",
      "xmin progress: 43%\r",
      "xmin progress: 47%\r",
      "xmin progress: 52%\r",
      "xmin progress: 56%\r",
      "xmin progress: 60%\r",
      "xmin progress: 65%\r",
      "xmin progress: 69%\r",
      "xmin progress: 73%\r",
      "xmin progress: 78%\r",
      "xmin progress: 82%\r",
      "xmin progress: 86%\r",
      "xmin progress: 91%\r",
      "xmin progress: 95%\r"
     ]
    },
    {
     "data": {
      "image/png": "[encoded data removed]",
      "text/plain": [
       "<Figure size 1152x432 with 3 Axes>"
      ]
     },
     "metadata": {
      "needs_background": "light"
     },
     "output_type": "display_data"
    },
    {
     "name": "stdout",
     "output_type": "stream",
     "text": [
      "alpha=2.460630695621222 sigma=0.11515767390530551\n"
     ]
    }
   ],
   "source": [
    "plot_dist(g)"
   ]
  },
  {
   "cell_type": "markdown",
   "id": "6f6af748",
   "metadata": {},
   "source": [
    "----"
   ]
  },
  {
   "cell_type": "markdown",
   "id": "38e43c72",
   "metadata": {},
   "source": [
    "## Path Analysis <a id = 'path'> </a>"
   ]
  },
  {
   "cell_type": "code",
   "execution_count": 26,
   "id": "ff8648d3",
   "metadata": {},
   "outputs": [],
   "source": [
    "#creo dei samples per ciascuna rete così da ridurre i tempi die esecuzione "
   ]
  },
  {
   "cell_type": "code",
   "execution_count": 27,
   "id": "5d79c1f9",
   "metadata": {},
   "outputs": [
    {
     "name": "stdout",
     "output_type": "stream",
     "text": [
      "Average shortest path (g): 0.000297974322856682\n",
      "Average shortest path weighted (g): 0.000297974322856682\n"
     ]
    }
   ],
   "source": [
    "print(\"Average shortest path (g):\", nx.average_shortest_path_length(g.subgraph(comps_g[0])))\n",
    "print(\"Average shortest path weighted (g):\", nx.average_shortest_path_length(g.subgraph(comps_g[0]), weight='weight'))"
   ]
  },
  {
   "cell_type": "markdown",
   "id": "7e617240",
   "metadata": {},
   "source": [
    "----"
   ]
  },
  {
   "cell_type": "markdown",
   "id": "860de333",
   "metadata": {},
   "source": [
    "## Centralità <a id = 'centralita'> </a>\n",
    "\n",
    "Di seguito verranno calcolare sulla rete le le seguenti **misure di centralità** e ordinate in base all'importante (solitamente i 10 nodi con centralità maggiore)\n",
    "1. [Degree Centrality](#dc)\n",
    "2. [Closeness Centrality](#clc)\n",
    "3. [Betweenness Centrality](#bc)\n",
    "4. [Harmonic Centrality](#hc)\n",
    "5. [Eigenvector Centrality](#ec) \n",
    "6. [Page Rank](#pr)\n"
   ]
  },
  {
   "cell_type": "markdown",
   "id": "dadc97e3",
   "metadata": {},
   "source": [
    " ### Degree Centrality <a id=\"dc\"></a>\n",
    "\n",
    "Creo un dizionario con i gradi dei nodi del dizionario e stampo i 10 nodi con grado maggiore"
   ]
  },
  {
   "cell_type": "code",
   "execution_count": 88,
   "id": "0d788d2f",
   "metadata": {},
   "outputs": [],
   "source": [
    "#Creo un dizionario con i gradi\n",
    "degrees_g = dict(g.degree())"
   ]
  },
  {
   "cell_type": "code",
   "execution_count": 89,
   "id": "b9671255",
   "metadata": {},
   "outputs": [
    {
     "data": {
      "text/plain": [
       "[('deppheardtruth', 548),\n",
       " ('youtube', 498),\n",
       " ('realamberheard', 413),\n",
       " ('theemilydbaker', 370),\n",
       " ('thatumbrella', 294),\n",
       " ('robert__leonard', 278),\n",
       " ('elonmusk', 261),\n",
       " ('tmz', 247),\n",
       " ('kyduiguy', 223),\n",
       " ('courttv', 205)]"
      ]
     },
     "execution_count": 89,
     "metadata": {},
     "output_type": "execute_result"
    }
   ],
   "source": [
    "ordine_gradi_g = [(k, v) for k, v in sorted(degrees_g.items(), key=lambda item: -item[1])]\n",
    "ordine_gradi_g[0:10]"
   ]
  },
  {
   "cell_type": "markdown",
   "id": "b34c0a21",
   "metadata": {},
   "source": [
    "### Closeness Centrality  <a id=\"clc\"></a>"
   ]
  },
  {
   "cell_type": "code",
   "execution_count": 30,
   "id": "cbabe380",
   "metadata": {},
   "outputs": [],
   "source": [
    "cc_g = nx.closeness_centrality(g)"
   ]
  },
  {
   "cell_type": "code",
   "execution_count": 31,
   "id": "036bd906",
   "metadata": {},
   "outputs": [
    {
     "data": {
      "text/plain": [
       "[('youtube', 0.029174843017045052),\n",
       " ('elonmusk', 0.02212246545396428),\n",
       " ('realamberheard', 0.021961668812387744),\n",
       " ('theemilydbaker', 0.019921747072327106),\n",
       " ('thatumbrella', 0.01684469890553749),\n",
       " ('tmz', 0.015274389135295302),\n",
       " ('twitter', 0.013261448174909263),\n",
       " ('kyduiguy', 0.012405548535946729),\n",
       " ('courttv', 0.01132509811424169),\n",
       " ('anoushasakoui', 0.010903044213026401)]"
      ]
     },
     "execution_count": 31,
     "metadata": {},
     "output_type": "execute_result"
    }
   ],
   "source": [
    "ordine_cc_g = [(k, v) for k, v in sorted(cc_g.items(), key=lambda item: -item[1])]\n",
    "ordine_cc_g[0:10]"
   ]
  },
  {
   "cell_type": "markdown",
   "id": "b0e8e9c3",
   "metadata": {},
   "source": [
    "### Betweenness Centrality <a id=\"bc\"></a>"
   ]
  },
  {
   "cell_type": "code",
   "execution_count": 32,
   "id": "e1895394",
   "metadata": {},
   "outputs": [],
   "source": [
    "bc_g = nx.closeness_centrality(g)"
   ]
  },
  {
   "cell_type": "code",
   "execution_count": 33,
   "id": "bc429faa",
   "metadata": {},
   "outputs": [
    {
     "data": {
      "text/plain": [
       "[('youtube', 0.029174843017045052),\n",
       " ('elonmusk', 0.02212246545396428),\n",
       " ('realamberheard', 0.021961668812387744),\n",
       " ('theemilydbaker', 0.019921747072327106),\n",
       " ('thatumbrella', 0.01684469890553749),\n",
       " ('tmz', 0.015274389135295302),\n",
       " ('twitter', 0.013261448174909263),\n",
       " ('kyduiguy', 0.012405548535946729),\n",
       " ('courttv', 0.01132509811424169),\n",
       " ('anoushasakoui', 0.010903044213026401)]"
      ]
     },
     "execution_count": 33,
     "metadata": {},
     "output_type": "execute_result"
    }
   ],
   "source": [
    "ordine_bc_g = [(k, v) for k, v in sorted(bc_g.items(), key=lambda item: -item[1])]\n",
    "ordine_bc_g[0:10]"
   ]
  },
  {
   "cell_type": "markdown",
   "id": "fd367ef3",
   "metadata": {},
   "source": [
    "### Harmonic Centrality <a id=\"hc\"></a>"
   ]
  },
  {
   "cell_type": "code",
   "execution_count": 34,
   "id": "015cfbcc",
   "metadata": {},
   "outputs": [],
   "source": [
    "hc_g = nx.harmonic_centrality(g)"
   ]
  },
  {
   "cell_type": "code",
   "execution_count": 35,
   "id": "a7f91e31",
   "metadata": {},
   "outputs": [
    {
     "data": {
      "text/plain": [
       "[('youtube', 652.1166666666664),\n",
       " ('elonmusk', 469.0166666666665),\n",
       " ('realamberheard', 439.0333333333333),\n",
       " ('theemilydbaker', 398.70000000000005),\n",
       " ('thatumbrella', 350.28333333333336),\n",
       " ('tmz', 325.40000000000003),\n",
       " ('twitter', 265.13333333333344),\n",
       " ('kyduiguy', 248.95000000000002),\n",
       " ('courttv', 218.83333333333331),\n",
       " ('anoushasakoui', 206.13333333333338)]"
      ]
     },
     "execution_count": 35,
     "metadata": {},
     "output_type": "execute_result"
    }
   ],
   "source": [
    "ordine_hc_g = [(k, v) for k, v in sorted(hc_g.items(), key=lambda item: -item[1])]\n",
    "ordine_hc_g[0:10]"
   ]
  },
  {
   "cell_type": "markdown",
   "id": "7c9629aa",
   "metadata": {},
   "source": [
    "## Eigenvector Centrality <a id=\"ec\"></a>"
   ]
  },
  {
   "cell_type": "code",
   "execution_count": 36,
   "id": "b550bceb",
   "metadata": {},
   "outputs": [],
   "source": [
    "evc_g = nx.eigenvector_centrality(g2)"
   ]
  },
  {
   "cell_type": "code",
   "execution_count": 37,
   "id": "5a681ee2",
   "metadata": {},
   "outputs": [
    {
     "data": {
      "text/plain": [
       "[('deppheardtruth', 0.43188299832441074),\n",
       " ('theemilydbaker', 0.25019176173511587),\n",
       " ('youtube', 0.1985930155116337),\n",
       " ('thatumbrella', 0.1902511012432535),\n",
       " ('ianrunkle', 0.163530656362908),\n",
       " ('kyduiguy', 0.15081706239863715),\n",
       " ('realamberheard', 0.14912463655989333),\n",
       " ('legalbytesmedia', 0.12830720551278485),\n",
       " ('lumberlaw', 0.11299442742195255),\n",
       " ('tmz', 0.09943237432632798)]"
      ]
     },
     "execution_count": 37,
     "metadata": {},
     "output_type": "execute_result"
    }
   ],
   "source": [
    "ordine_evc_g = [(k, v) for k, v in sorted(evc_g.items(), key=lambda item: -item[1])]\n",
    "ordine_evc_g[0:10]"
   ]
  },
  {
   "cell_type": "markdown",
   "id": "93e7e800",
   "metadata": {},
   "source": [
    "### Page Rank <a id=\"pr\"></a>"
   ]
  },
  {
   "cell_type": "code",
   "execution_count": 38,
   "id": "c0326cfe",
   "metadata": {},
   "outputs": [],
   "source": [
    "pr_g = nx.pagerank(g)"
   ]
  },
  {
   "cell_type": "code",
   "execution_count": 39,
   "id": "d8622eb5",
   "metadata": {},
   "outputs": [
    {
     "data": {
      "text/plain": [
       "[('youtube', 0.013684129930601143),\n",
       " ('realamberheard', 0.00881055986183616),\n",
       " ('theemilydbaker', 0.007026955762850357),\n",
       " ('lawcrimenetwork', 0.006288955398143012),\n",
       " ('elonmusk', 0.006150350780889709),\n",
       " ('tmz', 0.004552916720295864),\n",
       " ('thatumbrella', 0.004468585002152114),\n",
       " ('courttv', 0.003882412678030352),\n",
       " ('ashleycourttv', 0.003428799119900106),\n",
       " ('nypost', 0.0031553639079998598)]"
      ]
     },
     "execution_count": 39,
     "metadata": {},
     "output_type": "execute_result"
    }
   ],
   "source": [
    "ordine_pr_g = [(k, v) for k, v in sorted(pr_g.items(), key=lambda item: -item[1])]\n",
    "ordine_pr_g[0:10]"
   ]
  }
 ],
 "metadata": {
  "kernelspec": {
   "display_name": "Python 3 (ipykernel)",
   "language": "python",
   "name": "python3"
  },
  "language_info": {
   "codemirror_mode": {
    "name": "ipython",
    "version": 3
   },
   "file_extension": ".py",
   "mimetype": "text/x-python",
   "name": "python",
   "nbconvert_exporter": "python",
   "pygments_lexer": "ipython3",
   "version": "3.9.7"
  }
 },
 "nbformat": 4,
 "nbformat_minor": 5
}
